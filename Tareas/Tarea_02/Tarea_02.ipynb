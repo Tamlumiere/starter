{
  "nbformat": 4,
  "nbformat_minor": 0,
  "metadata": {
    "colab": {
      "provenance": [],
      "authorship_tag": "ABX9TyP7JL7D7EBNlFPhG84mPy+Q",
      "include_colab_link": true
    },
    "kernelspec": {
      "name": "python3",
      "display_name": "Python 3"
    },
    "language_info": {
      "name": "python"
    }
  },
  "cells": [
    {
      "cell_type": "markdown",
      "metadata": {
        "id": "view-in-github",
        "colab_type": "text"
      },
      "source": [
        "<a href=\"https://colab.research.google.com/github/Tamlumiere/starter/blob/main/Tarea_2.ipynb\" target=\"_parent\"><img src=\"https://colab.research.google.com/assets/colab-badge.svg\" alt=\"Open In Colab\"/></a>"
      ]
    },
    {
      "cell_type": "markdown",
      "source": [
        "1. Hacer un programa que imprima los números del 1 al 100, en python sería:"
      ],
      "metadata": {
        "id": "U6Ry5errjaVt"
      }
    },
    {
      "cell_type": "code",
      "source": [
        "print(range(100))\n",
        "\n",
        "for x in range(100):\n",
        "  print(x+1)"
      ],
      "metadata": {
        "colab": {
          "base_uri": "https://localhost:8080/"
        },
        "id": "3mKjvV0yjkSJ",
        "outputId": "47d33c71-d0df-4a34-ecaf-6db0ebb9ec83"
      },
      "execution_count": null,
      "outputs": [
        {
          "output_type": "stream",
          "name": "stdout",
          "text": [
            "range(0, 100)\n",
            "1\n",
            "2\n",
            "3\n",
            "4\n",
            "5\n",
            "6\n",
            "7\n",
            "8\n",
            "9\n",
            "10\n",
            "11\n",
            "12\n",
            "13\n",
            "14\n",
            "15\n",
            "16\n",
            "17\n",
            "18\n",
            "19\n",
            "20\n",
            "21\n",
            "22\n",
            "23\n",
            "24\n",
            "25\n",
            "26\n",
            "27\n",
            "28\n",
            "29\n",
            "30\n",
            "31\n",
            "32\n",
            "33\n",
            "34\n",
            "35\n",
            "36\n",
            "37\n",
            "38\n",
            "39\n",
            "40\n",
            "41\n",
            "42\n",
            "43\n",
            "44\n",
            "45\n",
            "46\n",
            "47\n",
            "48\n",
            "49\n",
            "50\n",
            "51\n",
            "52\n",
            "53\n",
            "54\n",
            "55\n",
            "56\n",
            "57\n",
            "58\n",
            "59\n",
            "60\n",
            "61\n",
            "62\n",
            "63\n",
            "64\n",
            "65\n",
            "66\n",
            "67\n",
            "68\n",
            "69\n",
            "70\n",
            "71\n",
            "72\n",
            "73\n",
            "74\n",
            "75\n",
            "76\n",
            "77\n",
            "78\n",
            "79\n",
            "80\n",
            "81\n",
            "82\n",
            "83\n",
            "84\n",
            "85\n",
            "86\n",
            "87\n",
            "88\n",
            "89\n",
            "90\n",
            "91\n",
            "92\n",
            "93\n",
            "94\n",
            "95\n",
            "96\n",
            "97\n",
            "98\n",
            "99\n",
            "100\n"
          ]
        }
      ]
    },
    {
      "cell_type": "markdown",
      "source": [
        "2. Hacer un programa que imprima los números del 1 al 100 que sean divisibles entre 3 (con resto 0)"
      ],
      "metadata": {
        "id": "R0KkWhtCk8oB"
      }
    },
    {
      "cell_type": "code",
      "source": [
        "for x in range(100):\n",
        "\n",
        "  if (x+1) % 3 == 0:\n",
        "    print(x+1)"
      ],
      "metadata": {
        "colab": {
          "base_uri": "https://localhost:8080/"
        },
        "id": "Z7zIlgs1lErn",
        "outputId": "614aeda2-f071-48d0-8285-6357bfc45662"
      },
      "execution_count": null,
      "outputs": [
        {
          "output_type": "stream",
          "name": "stdout",
          "text": [
            "3\n",
            "6\n",
            "9\n",
            "12\n",
            "15\n",
            "18\n",
            "21\n",
            "24\n",
            "27\n",
            "30\n",
            "33\n",
            "36\n",
            "39\n",
            "42\n",
            "45\n",
            "48\n",
            "51\n",
            "54\n",
            "57\n",
            "60\n",
            "63\n",
            "66\n",
            "69\n",
            "72\n",
            "75\n",
            "78\n",
            "81\n",
            "84\n",
            "87\n",
            "90\n",
            "93\n",
            "96\n",
            "99\n"
          ]
        }
      ]
    },
    {
      "cell_type": "markdown",
      "source": [
        "3. Realiza el algoritmo para un sumador de dos números. Si el resultado es menor a 100 se mostrará el mensaje \"menor a 100\", si el resultado es mayor a 100, pero menor a 150 mostrará el mensaje \"mayor a 100\", pero si es mayor a 150 mostrará el mensaje \"mayor a 150\"."
      ],
      "metadata": {
        "id": "A6iirxV1nbHa"
      }
    },
    {
      "cell_type": "code",
      "source": [
        "numero_1 = int(input(\"Ingrese un número\"))\n",
        "numero_2 = 5\n",
        "suma = numero_1 + numero_2\n",
        "resultado = \"\"\n",
        "\n",
        "if(suma<100):\n",
        "  resultado = \"menor a 100\"\n",
        "elif(suma>100 and suma<150):\n",
        "  resultado = \"mayor a 100\"\n",
        "elif(suma>=150):\n",
        "  resultado = \"mayor a 150\"\n",
        "\n",
        "print(resultado)"
      ],
      "metadata": {
        "colab": {
          "base_uri": "https://localhost:8080/"
        },
        "id": "Mt9S6TTcnkBF",
        "outputId": "32a14442-e963-4ed3-c635-d96d3ee73a33"
      },
      "execution_count": null,
      "outputs": [
        {
          "output_type": "stream",
          "name": "stdout",
          "text": [
            "Ingrese un número50\n",
            "menor a 100\n"
          ]
        }
      ]
    },
    {
      "cell_type": "markdown",
      "source": [
        "4."
      ],
      "metadata": {
        "id": "F054hi-tVoJ3"
      }
    },
    {
      "cell_type": "code",
      "source": [
        "# Menor de edad y no te gusta programar\n",
        "# Menor de edad y te gusta programar\n",
        "# Mayor de edad y te gusta programar\n",
        "# Mayor de edad y no te gusta programar\n",
        "\n",
        "Edad = int(input(\"Ingrese una edad\"))\n",
        "Gusta_programar = (input(\"¿Te gusta programar? si/no\"))\n",
        "Resultado = \"\"\n",
        "\n",
        "if(Edad<18 and Gusta_programar== \"si\") :\n",
        "  Resultado = \"Eres menor de edad y te gusta programar\"\n",
        "elif(Edad<18 and Gusta_programar==\"no\") :\n",
        "  Resultado = \"Eres menor de edad y no te gusta programar\"\n",
        "elif(Edad>18 and Gusta_programar== \"si\") :\n",
        "  Resultado = \"Eres mayor de edad y te gusta programar\"\n",
        "elif(Edad>18 and Gusta_programar== \"no\"):\n",
        "  Resultado = \"Eres mayor de edad y no te gusta programar\"\n",
        "\n",
        "print(Resultado)"
      ],
      "metadata": {
        "colab": {
          "base_uri": "https://localhost:8080/"
        },
        "id": "RPd42ry9Vqva",
        "outputId": "13c27109-bcd7-448c-ab73-cb8f12a91dad"
      },
      "execution_count": null,
      "outputs": [
        {
          "output_type": "stream",
          "name": "stdout",
          "text": [
            "Ingrese una edad22\n",
            "¿Te gusta programar? si/nono\n",
            "Eres mayor de edad y no te gusta programar\n"
          ]
        }
      ]
    }
  ]
}